{
 "cells": [
  {
   "cell_type": "code",
   "execution_count": 3,
   "metadata": {},
   "outputs": [
    {
     "name": "stdout",
     "output_type": "stream",
     "text": [
      "a is less than b\n",
      "a is definitelt less than b\n",
      "Not sure if a is less than b\n"
     ]
    }
   ],
   "source": [
    "a = 1\n",
    "b = 2\n",
    "\n",
    "if a < b:\n",
    "    print(\"a is less than b\")\n",
    "    print(\"a is definitelt less than b\")\n",
    "print(\"Not sure if a is less than b\")"
   ]
  },
  {
   "cell_type": "code",
   "execution_count": 5,
   "metadata": {},
   "outputs": [
    {
     "name": "stdout",
     "output_type": "stream",
     "text": [
      "c is NOT less than d\n",
      "I don't think c is less than d\n",
      "outside the if block\n"
     ]
    }
   ],
   "source": [
    "c = 5\n",
    "d = 4\n",
    "if c < d:\n",
    "    print(\"c is less than d\")\n",
    "else:\n",
    "    print(\"c is NOT less than d\")\n",
    "    print(\"I don't think c is less than d\")\n",
    "print(\"outside the if block\")"
   ]
  },
  {
   "cell_type": "code",
   "execution_count": 17,
   "metadata": {},
   "outputs": [
    {
     "name": "stdout",
     "output_type": "stream",
     "text": [
      "e is greater than f by more than 10\n"
     ]
    }
   ],
   "source": [
    "e = 73\n",
    "f = 8\n",
    "if e < f:\n",
    "    print(\"e is less than f\")\n",
    "elif e == f:\n",
    "    print(\"e is equal to f\")\n",
    "elif e > f + 10:\n",
    "    print(\"e is greater than f by more than 10\")\n",
    "else:\n",
    "    print(\"e is not less than f\")"
   ]
  },
  {
   "cell_type": "code",
   "execution_count": 20,
   "metadata": {},
   "outputs": [
    {
     "name": "stdout",
     "output_type": "stream",
     "text": [
      "g is greater than h\n"
     ]
    }
   ],
   "source": [
    "g = 9\n",
    "h = 8\n",
    "if g < h:\n",
    "    print(\"g is less than h\")\n",
    "else:\n",
    "    if g == h:\n",
    "        print(\"g is equal to h\")\n",
    "    else:\n",
    "        print(\"g is greater than h\")"
   ]
  },
  {
   "cell_type": "code",
   "execution_count": 30,
   "metadata": {},
   "outputs": [
    {
     "name": "stdout",
     "output_type": "stream",
     "text": [
      "bmi: \n",
      "25.082863029651524\n",
      "Victor\n",
      "is overweight\n"
     ]
    }
   ],
   "source": [
    "name = \"Victor\"\n",
    "Height_m = 1.83\n",
    "weight_kg = 84\n",
    "\n",
    "bmi = weight_kg / (Height_m ** 2)\n",
    "print(\"bmi: \")\n",
    "print(bmi)\n",
    "if bmi < 25:\n",
    "    print(name)\n",
    "    print(\"is not overweight\")\n",
    "else:\n",
    "    print(name)\n",
    "    print(\"is overweight\")"
   ]
  },
  {
   "cell_type": "code",
   "execution_count": null,
   "metadata": {},
   "outputs": [],
   "source": []
  }
 ],
 "metadata": {
  "kernelspec": {
   "display_name": "Python 3",
   "language": "python",
   "name": "python3"
  },
  "language_info": {
   "codemirror_mode": {
    "name": "ipython",
    "version": 3
   },
   "file_extension": ".py",
   "mimetype": "text/x-python",
   "name": "python",
   "nbconvert_exporter": "python",
   "pygments_lexer": "ipython3",
   "version": "3.8.1"
  }
 },
 "nbformat": 4,
 "nbformat_minor": 4
}

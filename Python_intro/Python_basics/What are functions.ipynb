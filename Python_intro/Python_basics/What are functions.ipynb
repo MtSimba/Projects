{
 "cells": [
  {
   "cell_type": "code",
   "execution_count": 1,
   "metadata": {},
   "outputs": [],
   "source": [
    "#this is a comment"
   ]
  },
  {
   "cell_type": "code",
   "execution_count": 2,
   "metadata": {},
   "outputs": [
    {
     "name": "stdout",
     "output_type": "stream",
     "text": [
      "outside function\n"
     ]
    }
   ],
   "source": [
    "def function1(): #def is for define function?\n",
    "    print(\"Hello daddy\")\n",
    "    print(\"i am sexy\")\n",
    "print(\"outside function\")"
   ]
  },
  {
   "cell_type": "code",
   "execution_count": 3,
   "metadata": {},
   "outputs": [
    {
     "name": "stdout",
     "output_type": "stream",
     "text": [
      "Hello daddy\n",
      "i am sexy\n"
     ]
    }
   ],
   "source": [
    "function1()"
   ]
  },
  {
   "cell_type": "code",
   "execution_count": 4,
   "metadata": {},
   "outputs": [
    {
     "name": "stdout",
     "output_type": "stream",
     "text": [
      "Hello daddy\n",
      "i am sexy\n",
      "Hello daddy\n",
      "i am sexy\n"
     ]
    }
   ],
   "source": [
    "function1()\n",
    "function1()"
   ]
  },
  {
   "cell_type": "code",
   "execution_count": 5,
   "metadata": {},
   "outputs": [],
   "source": [
    "def function2(x):\n",
    "    return 2*x"
   ]
  },
  {
   "cell_type": "code",
   "execution_count": 6,
   "metadata": {},
   "outputs": [
    {
     "data": {
      "text/plain": [
       "20"
      ]
     },
     "execution_count": 6,
     "metadata": {},
     "output_type": "execute_result"
    }
   ],
   "source": [
    "function2(10)"
   ]
  },
  {
   "cell_type": "code",
   "execution_count": 7,
   "metadata": {},
   "outputs": [
    {
     "name": "stdout",
     "output_type": "stream",
     "text": [
      "12 10\n"
     ]
    }
   ],
   "source": [
    "a = function2(6)\n",
    "b = function2(5)\n",
    "\n",
    "print(a,b)"
   ]
  },
  {
   "cell_type": "code",
   "execution_count": 8,
   "metadata": {},
   "outputs": [],
   "source": [
    "def function3(x,y):\n",
    "    return x + y\n"
   ]
  },
  {
   "cell_type": "code",
   "execution_count": 9,
   "metadata": {},
   "outputs": [
    {
     "name": "stdout",
     "output_type": "stream",
     "text": [
      "205\n"
     ]
    }
   ],
   "source": [
    "c = function3(5,200)\n",
    "print(c)"
   ]
  },
  {
   "cell_type": "code",
   "execution_count": 10,
   "metadata": {},
   "outputs": [],
   "source": [
    "def function4(x):\n",
    "    print(x)\n",
    "    print(\"still here\")\n",
    "    return 3*x"
   ]
  },
  {
   "cell_type": "code",
   "execution_count": 11,
   "metadata": {},
   "outputs": [
    {
     "name": "stdout",
     "output_type": "stream",
     "text": [
      "4\n",
      "still here\n",
      "12\n"
     ]
    }
   ],
   "source": [
    "d = function4(4)\n",
    "print(d)"
   ]
  },
  {
   "cell_type": "code",
   "execution_count": 12,
   "metadata": {},
   "outputs": [],
   "source": [
    "def function5(some_argument): #some argument is just a placeholder\n",
    "    print(some_argument)\n",
    "    print(\"Hello friend\")\n",
    "    "
   ]
  },
  {
   "cell_type": "code",
   "execution_count": 13,
   "metadata": {},
   "outputs": [
    {
     "name": "stdout",
     "output_type": "stream",
     "text": [
      "4\n",
      "Hello friend\n"
     ]
    }
   ],
   "source": [
    "function5(4)"
   ]
  },
  {
   "cell_type": "code",
   "execution_count": 14,
   "metadata": {},
   "outputs": [],
   "source": [
    "#BMI calculator\n",
    "\n",
    "name1 = \"Victor\"\n",
    "Height_m1 = 1.83\n",
    "weight_kg1 = 84\n",
    "\n",
    "name2 = \"Markus\"\n",
    "Height_m2 = 1.83\n",
    "weight_kg2 = 82\n",
    "\n",
    "name3 = \"Marco\"\n",
    "Height_m3 = 1.88\n",
    "weight_kg3 = 72"
   ]
  },
  {
   "cell_type": "code",
   "execution_count": 24,
   "metadata": {},
   "outputs": [],
   "source": [
    "def BMI_calculator(name,height_m,weight_kg):\n",
    "    bmi = weight_kg / (height_m ** 2)\n",
    "    print(\"BMI: \")\n",
    "    print(bmi)\n",
    "    if bmi < 25:\n",
    "        return name + \" is not overweight\"\n",
    "    else:\n",
    "        return name + \" is overweight\""
   ]
  },
  {
   "cell_type": "code",
   "execution_count": 25,
   "metadata": {},
   "outputs": [
    {
     "name": "stdout",
     "output_type": "stream",
     "text": [
      "BMI: \n",
      "25.082863029651524\n",
      "BMI: \n",
      "24.48565200513601\n",
      "BMI: \n",
      "20.37120869171571\n"
     ]
    }
   ],
   "source": [
    "result1 = BMI_calculator(name1,Height_m1,weight_kg1)\n",
    "result2 = BMI_calculator(name2,Height_m2,weight_kg2)\n",
    "result3 = BMI_calculator(name3,Height_m3,weight_kg3)"
   ]
  },
  {
   "cell_type": "code",
   "execution_count": 26,
   "metadata": {},
   "outputs": [
    {
     "name": "stdout",
     "output_type": "stream",
     "text": [
      "Victor is overweight\n",
      "Markus is not overweight\n",
      "Marco is not overweight\n"
     ]
    }
   ],
   "source": [
    "print(result1)\n",
    "print(result2)\n",
    "print(result3)"
   ]
  },
  {
   "cell_type": "code",
   "execution_count": null,
   "metadata": {},
   "outputs": [],
   "source": []
  }
 ],
 "metadata": {
  "kernelspec": {
   "display_name": "Python 3",
   "language": "python",
   "name": "python3"
  },
  "language_info": {
   "codemirror_mode": {
    "name": "ipython",
    "version": 3
   },
   "file_extension": ".py",
   "mimetype": "text/x-python",
   "name": "python",
   "nbconvert_exporter": "python",
   "pygments_lexer": "ipython3",
   "version": "3.8.1"
  }
 },
 "nbformat": 4,
 "nbformat_minor": 4
}
